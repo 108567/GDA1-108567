{
 "cells": [
  {
   "cell_type": "markdown",
   "metadata": {
    "vscode": {
     "languageId": "plaintext"
    }
   },
   "source": [
    "# Introduction to Pandas DataFrames\n",
    "\n",
    "![panda and python](Pandas.webp)\n",
    "\n",
    "[Pandas ](https://pandas.pydata.org/) is a powerful and versatile library for Python, designed primarily for data manipulation and analysis. To quote from Nvidia’s website:\n",
    "\n",
    "> Pandas is the most popular software library for data manipulation and data analysis for the Python programming language. ([www.nvidia.com](https://www.nvidia.com/en-us/glossary/pandas-python/))\n",
    "\n",
    "Here is an (incomplete) list of some key functionalities provided by Pandas:\n",
    "\n",
    "<ol>\n",
    "  <li>Data Structures</li>\n",
    "    \n",
    "  - *Series*: One-dimensional labeled array capable of holding data of any type.\n",
    "  - *DataFrame*: Two-dimensional, size-mutable, potentially heterogeneous tabular data structure with labeled axes (rows and columns).\n",
    "    \n",
    "  <li>Data Manipulation</li>\n",
    "\n",
    "  - *Data Selection and Indexing:*: Access data via labels, indices, or boolean masks (`.loc, .iloc, .at, .iat.`)\n",
    "  - *Filtering*: Filter data based on conditions or queries.\n",
    "  - *Sorting*: Sort data by labels or values.\n",
    "  - *Handling Missing Data*: Identify, fill, or drop missing values (`isnull, dropna, fillna`).\n",
    "\n",
    "  <li>Data Cleaning</li>\n",
    "\n",
    "  - *Dropping Duplicates*: Remove duplicate rows or columns. \n",
    "  - *Replacing Values*: Replace specific values in the DataFrame.\n",
    "  - *String Operations*: Perform operations on string data, like splitting, replacing, and pattern matching (`str.split, str.replace`).\n",
    "\n",
    "  <li>Aggregation and Grouping</li>\n",
    "\n",
    "  - *Group By*: Split data into groups based on criteria, and perform aggregate functions like sum, mean, or custom operations.\n",
    "  - *Pivot Tables*: Create a pivot table to summarize data.\n",
    "      \n",
    "  <li>Merging and Joining</li>\n",
    "\n",
    "  - *Concatenation*: Combine multiple DataFrames along a particular axis.\n",
    "  - *Merging*: Merge DataFrames similar to SQL joins (`merge, join`).\n",
    "      \n",
    "  <li>Time Series</li>\n",
    "\n",
    "  - *Datetime Conversion*: Convert date and time data to a datetime object.\n",
    "  - *Resampling*: Aggregate data over a time period.\n",
    "  - *Time-based Indexing*: Access and manipulate time-series data easily with date indexing.\n",
    "      \n",
    "  <li>Statistical and Mathematical Operations</li>\n",
    "\n",
    "  - *Descriptive Statistics*: Compute summary statistics for DataFrame columns.\n",
    "  - *Correlation/ Covariance*: Calculate the pairwise correlation or covariance between columns.\n",
    "  - *Cumulative Operations*: Perform cumulative operations on data.\n",
    "</ol>\n",
    "\n",
    "At the heart of Pandas lies the DataFrame, a two-dimensional labeled data structure with columns of potentially different types, similar to a table in a relational database or an Excel spreadsheet. Understanding DataFrames is crucial for anyone looking to perform data analysis in Python.\n",
    "\n",
    "## What is a DataFrame? \n",
    " \n",
    "A DataFrame is a table-like structure in Pandas that consists of rows and columns, where each column can hold different data types (e.g., integers, floats, strings). You can think of it as a collection of Series objects, where each Series is a single column of data. DataFrames provide a highly efficient way to store and manipulate large datasets in memory.\n",
    "\n",
    "## Creating a DataFrame\n",
    "\n",
    "There are several ways to create a DataFrame in Pandas, but some of the most common methods are:\n",
    "\n",
    "<ol>\n",
    "  <li>From a Dictionary</li>\n",
    "  <li>From a List of Lists</li>\n",
    "  <li>From a CSV File</li>\n",
    "</ol>\n",
    "\n",
    "Below we take a look at the first two approaches.\n",
    "\n",
    "## Creating DataFrame from a Dictionary\n",
    "\n",
    "The following code will create a DataFrame with three columns: ‘Name’, ‘Age’, and ‘City’, and three rows corresponding to the data provided in the dictionary. To be able to use Pandas, we first have to import it. This is done using the command `import pandas as pd`, introducing the alias `pd` for Pandas.\n",
    "\n",
    "\n"
   ]
  },
  {
   "cell_type": "code",
   "execution_count": null,
   "metadata": {},
   "outputs": [],
   "source": [
    "```php\n",
    "import pandas as pd\n",
    "\n",
    "data = {\n",
    "    'Name': ['Alice', 'Bob', 'Charlie'],\n",
    "    'Age': [25, 30, 35],\n",
    "    'City': ['New York', 'Los Angeles', 'Chicago']\n",
    "}\n",
    "\n",
    "df = pd.DataFrame(data)\n",
    "print(df)\n",
    "```"
   ]
  },
  {
   "cell_type": "code",
   "execution_count": null,
   "metadata": {
    "vscode": {
     "languageId": "plaintext"
    }
   },
   "outputs": [],
   "source": [
    "## Creating DataFrame from a List of Lists\n",
    "\n",
    "Here, we create the DataFrame from a list of lists where each inner list represents the values for one row. Note that We explicitly specify the column names when creating the DataFrame.\n"
   ]
  },
  {
   "cell_type": "code",
   "execution_count": null,
   "metadata": {},
   "outputs": [],
   "source": [
    ">\n",
    "```php\n",
    "data = [\n",
    "    ['Alice', 25, 'New York'],\n",
    "    ['Bob', 30, 'Los Angeles'],\n",
    "    ['Charlie', 35, 'Chicago']\n",
    "]\n",
    "\n",
    "df = pd.DataFrame(data, columns=['Name', 'Age', 'City'])\n",
    "print(df)\n",
    "```\n"
   ]
  },
  {
   "cell_type": "markdown",
   "metadata": {},
   "source": [
    "## Accessing Data in a DataFrame\n",
    "\n",
    "Once you have a DataFrame, you can access its data in various ways:\n",
    "\n",
    "<ol>\n",
    "  <li>By column name:</li>\n",
    "\n",
    "  ```php\n",
    "  print(df['Name'])\n",
    "  ```\n",
    "\n",
    "  <li>By row index:</li>\n",
    "\n",
    "  ```php\n",
    "  print(df.iloc[0])\n",
    "  ```\n",
    "\n",
    "  <li>Using both:</li>\n",
    "\n",
    "  ```php\n",
    "  print(df.loc[0, 'Name'])\n",
    "  ```\n",
    "</ol>\n",
    "\n"
   ]
  },
  {
   "cell_type": "markdown",
   "metadata": {},
   "source": [
    "## Conclusion\n",
    "\n",
    "Pandas DataFrames are a fundamental tool in the data analysis toolkit for Python users. They provide a powerful way to organize, manipulate, and analyze data efficiently. Whether you’re working with small datasets or handling large-scale data, mastering DataFrames will allow you to tackle a wide range of data-related tasks with ease.\n",
    "\n",
    "In this introduction, we’ve covered the basics of what a DataFrame is, how to create one, and how to access columns, rows, and individual cells in a DataFrame. As you continue to explore Pandas, you’ll discover many more features and capabilities that make DataFrames an indispensable part of Python programming. The table below contains a number of resources related to Pandas.\n",
    "\n",
    "| Resource    | Description |\n",
    "| ----------- | ----------- |\n",
    "| [Pandas Documentation](https://pandas.pydata.org/)      | Official documentation for Pandas.|\n",
    "| [Python for Data Analysis](https://www.oreilly.com/library/view/python-for-data/9781491957653/)     | Comprehensive guide by Pandas creator, Wes McKinney.|\n",
    "| [Real Python: The Pandas DataFrame](https://realpython.com/pandas-dataframe/)    | Tutorials on using Pandas for data analysis.|\n",
    "| [Kaggle Pandas](https://www.kaggle.com/learn/pandas)     | Free introductory course on Pandas by Kaggle.|\n",
    "| [DataCamp Pandas Tutorial](https://www.datacamp.com/tutorial/pandas-tutorial-dataframe-python)   | Detailed tutorials and exercises on Pandas. |\n",
    "\n",
    "\n",
    "[def]: Pandas.webp\n"
   ]
  }
 ],
 "metadata": {
  "language_info": {
   "name": "python"
  }
 },
 "nbformat": 4,
 "nbformat_minor": 2
}
